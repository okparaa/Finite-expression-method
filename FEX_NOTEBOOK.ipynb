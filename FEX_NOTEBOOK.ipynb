{
  "cells": [
    {
      "cell_type": "markdown",
      "metadata": {
        "id": "view-in-github",
        "colab_type": "text"
      },
      "source": [
        "<a href=\"https://colab.research.google.com/github/okparaa/Finite-expression-method/blob/main/FEX_NOTEBOOK.ipynb\" target=\"_parent\"><img src=\"https://colab.research.google.com/assets/colab-badge.svg\" alt=\"Open In Colab\"/></a>"
      ]
    },
    {
      "cell_type": "code",
      "source": [
        "! git clone https://github.com/okparaa/Finite-expression-method.git"
      ],
      "metadata": {
        "id": "y6InykhfWS7A",
        "outputId": "f597641a-d616-4e87-b249-4da4ac92dfec",
        "colab": {
          "base_uri": "https://localhost:8080/"
        }
      },
      "execution_count": 16,
      "outputs": [
        {
          "output_type": "stream",
          "name": "stdout",
          "text": [
            "Cloning into 'Finite-expression-method'...\n",
            "remote: Enumerating objects: 210, done.\u001b[K\n",
            "remote: Counting objects: 100% (210/210), done.\u001b[K\n",
            "remote: Compressing objects: 100% (189/189), done.\u001b[K\n",
            "remote: Total 210 (delta 122), reused 57 (delta 16), pack-reused 0\u001b[K\n",
            "Receiving objects: 100% (210/210), 576.53 KiB | 2.30 MiB/s, done.\n",
            "Resolving deltas: 100% (122/122), done.\n"
          ]
        }
      ]
    },
    {
      "cell_type": "code",
      "source": [
        "cd /content/Finite-expression-method/fex/Schrodinger"
      ],
      "metadata": {
        "id": "uZj2Jvx1Wwsi",
        "outputId": "48a48a07-c2fb-4dd0-91e7-84c7d79506b6",
        "colab": {
          "base_uri": "https://localhost:8080/"
        }
      },
      "execution_count": 17,
      "outputs": [
        {
          "output_type": "stream",
          "name": "stdout",
          "text": [
            "/content/Finite-expression-method/fex/Schrodinger\n"
          ]
        }
      ]
    },
    {
      "cell_type": "code",
      "source": [
        "! python scripts.py"
      ],
      "metadata": {
        "id": "Hxz3ACex_0Cd",
        "outputId": "0da5bd12-5ec3-4998-91dc-80bd99892c5b",
        "colab": {
          "base_uri": "https://localhost:8080/"
        }
      },
      "execution_count": 18,
      "outputs": [
        {
          "output_type": "stream",
          "name": "stdout",
          "text": [
            "running dim 6\n",
            "running dim 12\n",
            "running dim 18\n",
            "running dim 24\n",
            "running dim 30\n",
            "running dim 6\n",
            "running dim 12\n",
            "running dim 18\n",
            "running dim 24\n",
            "running dim 30\n"
          ]
        }
      ]
    }
  ],
  "metadata": {
    "colab": {
      "name": "Making the most of your colab subscription",
      "provenance": [],
      "machine_shape": "hm",
      "gpuType": "T4",
      "include_colab_link": true
    },
    "kernelspec": {
      "display_name": "Python 3",
      "name": "python3"
    },
    "accelerator": "GPU"
  },
  "nbformat": 4,
  "nbformat_minor": 0
}